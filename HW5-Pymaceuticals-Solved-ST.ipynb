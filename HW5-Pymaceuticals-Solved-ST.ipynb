{
 "cells": [
  {
   "cell_type": "markdown",
   "metadata": {},
   "source": [
    "# Pymaceuticals- Suraj Thyagaraj"
   ]
  },
  {
   "cell_type": "markdown",
   "metadata": {},
   "source": [
    "## Observations and Insights"
   ]
  },
  {
   "cell_type": "markdown",
   "metadata": {},
   "source": [
    "### 1. There is almost an even split of male versus female test \n",
    "### 2. While most drugs caused tumor volumes to increase with time, Capomulin and Ramicane were the only ones effective at reducing or containing the tumor volumes\n",
    "### 3. Capomulin was the most effective drug in reducing the average tumor size\n",
    "### 4. There appears to be a strong linear correlation between weight and tumor volume"
   ]
  },
  {
   "cell_type": "code",
   "execution_count": 1,
   "metadata": {},
   "outputs": [],
   "source": [
    "# Dependencies and Setup\n",
    "import matplotlib.pyplot as plt\n",
    "import pandas as pd\n",
    "import scipy.stats as st\n",
    "from scipy.stats import linregress\n",
    "\n",
    "# Study data files\n",
    "mouse_metadata = \"data/Mouse_metadata.csv\"\n",
    "study_results = \"data/Study_results.csv\"\n",
    "\n",
    "# Read the mouse data and the study results\n",
    "mouse_metadata = pd.read_csv(mouse_metadata)\n",
    "study_results = pd.read_csv(study_results)\n",
    "\n"
   ]
  },
  {
   "cell_type": "code",
   "execution_count": 2,
   "metadata": {},
   "outputs": [
    {
     "data": {
      "text/html": [
       "<div>\n",
       "<style scoped>\n",
       "    .dataframe tbody tr th:only-of-type {\n",
       "        vertical-align: middle;\n",
       "    }\n",
       "\n",
       "    .dataframe tbody tr th {\n",
       "        vertical-align: top;\n",
       "    }\n",
       "\n",
       "    .dataframe thead th {\n",
       "        text-align: right;\n",
       "    }\n",
       "</style>\n",
       "<table border=\"1\" class=\"dataframe\">\n",
       "  <thead>\n",
       "    <tr style=\"text-align: right;\">\n",
       "      <th></th>\n",
       "      <th>Age_months</th>\n",
       "      <th>Weight (g)</th>\n",
       "      <th>Timepoint</th>\n",
       "      <th>Tumor Volume (mm3)</th>\n",
       "      <th>Metastatic Sites</th>\n",
       "    </tr>\n",
       "  </thead>\n",
       "  <tbody>\n",
       "    <tr>\n",
       "      <th>count</th>\n",
       "      <td>1893.000000</td>\n",
       "      <td>1893.000000</td>\n",
       "      <td>1893.000000</td>\n",
       "      <td>1893.000000</td>\n",
       "      <td>1893.000000</td>\n",
       "    </tr>\n",
       "    <tr>\n",
       "      <th>mean</th>\n",
       "      <td>12.814580</td>\n",
       "      <td>25.662441</td>\n",
       "      <td>19.572108</td>\n",
       "      <td>50.448381</td>\n",
       "      <td>1.021659</td>\n",
       "    </tr>\n",
       "    <tr>\n",
       "      <th>std</th>\n",
       "      <td>7.189592</td>\n",
       "      <td>3.921622</td>\n",
       "      <td>14.079460</td>\n",
       "      <td>8.894722</td>\n",
       "      <td>1.137974</td>\n",
       "    </tr>\n",
       "    <tr>\n",
       "      <th>min</th>\n",
       "      <td>1.000000</td>\n",
       "      <td>15.000000</td>\n",
       "      <td>0.000000</td>\n",
       "      <td>22.050126</td>\n",
       "      <td>0.000000</td>\n",
       "    </tr>\n",
       "    <tr>\n",
       "      <th>25%</th>\n",
       "      <td>7.000000</td>\n",
       "      <td>25.000000</td>\n",
       "      <td>5.000000</td>\n",
       "      <td>45.000000</td>\n",
       "      <td>0.000000</td>\n",
       "    </tr>\n",
       "    <tr>\n",
       "      <th>50%</th>\n",
       "      <td>13.000000</td>\n",
       "      <td>27.000000</td>\n",
       "      <td>20.000000</td>\n",
       "      <td>48.951474</td>\n",
       "      <td>1.000000</td>\n",
       "    </tr>\n",
       "    <tr>\n",
       "      <th>75%</th>\n",
       "      <td>20.000000</td>\n",
       "      <td>29.000000</td>\n",
       "      <td>30.000000</td>\n",
       "      <td>56.292200</td>\n",
       "      <td>2.000000</td>\n",
       "    </tr>\n",
       "    <tr>\n",
       "      <th>max</th>\n",
       "      <td>24.000000</td>\n",
       "      <td>30.000000</td>\n",
       "      <td>45.000000</td>\n",
       "      <td>78.567014</td>\n",
       "      <td>4.000000</td>\n",
       "    </tr>\n",
       "  </tbody>\n",
       "</table>\n",
       "</div>"
      ],
      "text/plain": [
       "        Age_months   Weight (g)    Timepoint  Tumor Volume (mm3)  \\\n",
       "count  1893.000000  1893.000000  1893.000000         1893.000000   \n",
       "mean     12.814580    25.662441    19.572108           50.448381   \n",
       "std       7.189592     3.921622    14.079460            8.894722   \n",
       "min       1.000000    15.000000     0.000000           22.050126   \n",
       "25%       7.000000    25.000000     5.000000           45.000000   \n",
       "50%      13.000000    27.000000    20.000000           48.951474   \n",
       "75%      20.000000    29.000000    30.000000           56.292200   \n",
       "max      24.000000    30.000000    45.000000           78.567014   \n",
       "\n",
       "       Metastatic Sites  \n",
       "count       1893.000000  \n",
       "mean           1.021659  \n",
       "std            1.137974  \n",
       "min            0.000000  \n",
       "25%            0.000000  \n",
       "50%            1.000000  \n",
       "75%            2.000000  \n",
       "max            4.000000  "
      ]
     },
     "execution_count": 2,
     "metadata": {},
     "output_type": "execute_result"
    }
   ],
   "source": [
    "# Combine the data into a single dataset\n",
    "study_data = pd.merge(mouse_metadata, study_results, on='Mouse ID')\n",
    "\n",
    "# Display the data table for preview\n",
    "study_data.head(20)\n",
    "study_data.describe()"
   ]
  },
  {
   "cell_type": "code",
   "execution_count": 3,
   "metadata": {},
   "outputs": [
    {
     "data": {
      "text/html": [
       "<div>\n",
       "<style scoped>\n",
       "    .dataframe tbody tr th:only-of-type {\n",
       "        vertical-align: middle;\n",
       "    }\n",
       "\n",
       "    .dataframe tbody tr th {\n",
       "        vertical-align: top;\n",
       "    }\n",
       "\n",
       "    .dataframe thead th {\n",
       "        text-align: right;\n",
       "    }\n",
       "</style>\n",
       "<table border=\"1\" class=\"dataframe\">\n",
       "  <thead>\n",
       "    <tr style=\"text-align: right;\">\n",
       "      <th></th>\n",
       "      <th>index</th>\n",
       "      <th>Mouse ID</th>\n",
       "      <th>Drug Regimen</th>\n",
       "      <th>Sex</th>\n",
       "      <th>Age_months</th>\n",
       "      <th>Weight (g)</th>\n",
       "      <th>Timepoint</th>\n",
       "      <th>Tumor Volume (mm3)</th>\n",
       "      <th>Metastatic Sites</th>\n",
       "    </tr>\n",
       "  </thead>\n",
       "  <tbody>\n",
       "    <tr>\n",
       "      <th>0</th>\n",
       "      <td>0</td>\n",
       "      <td>k403</td>\n",
       "      <td>Ramicane</td>\n",
       "      <td>Male</td>\n",
       "      <td>21</td>\n",
       "      <td>16</td>\n",
       "      <td>0</td>\n",
       "      <td>45.000000</td>\n",
       "      <td>0</td>\n",
       "    </tr>\n",
       "    <tr>\n",
       "      <th>1</th>\n",
       "      <td>1</td>\n",
       "      <td>k403</td>\n",
       "      <td>Ramicane</td>\n",
       "      <td>Male</td>\n",
       "      <td>21</td>\n",
       "      <td>16</td>\n",
       "      <td>5</td>\n",
       "      <td>38.825898</td>\n",
       "      <td>0</td>\n",
       "    </tr>\n",
       "    <tr>\n",
       "      <th>2</th>\n",
       "      <td>2</td>\n",
       "      <td>k403</td>\n",
       "      <td>Ramicane</td>\n",
       "      <td>Male</td>\n",
       "      <td>21</td>\n",
       "      <td>16</td>\n",
       "      <td>10</td>\n",
       "      <td>35.014271</td>\n",
       "      <td>1</td>\n",
       "    </tr>\n",
       "    <tr>\n",
       "      <th>3</th>\n",
       "      <td>3</td>\n",
       "      <td>k403</td>\n",
       "      <td>Ramicane</td>\n",
       "      <td>Male</td>\n",
       "      <td>21</td>\n",
       "      <td>16</td>\n",
       "      <td>15</td>\n",
       "      <td>34.223992</td>\n",
       "      <td>1</td>\n",
       "    </tr>\n",
       "    <tr>\n",
       "      <th>4</th>\n",
       "      <td>4</td>\n",
       "      <td>k403</td>\n",
       "      <td>Ramicane</td>\n",
       "      <td>Male</td>\n",
       "      <td>21</td>\n",
       "      <td>16</td>\n",
       "      <td>20</td>\n",
       "      <td>32.997729</td>\n",
       "      <td>1</td>\n",
       "    </tr>\n",
       "  </tbody>\n",
       "</table>\n",
       "</div>"
      ],
      "text/plain": [
       "   index Mouse ID Drug Regimen   Sex  Age_months  Weight (g)  Timepoint  \\\n",
       "0      0     k403     Ramicane  Male          21          16          0   \n",
       "1      1     k403     Ramicane  Male          21          16          5   \n",
       "2      2     k403     Ramicane  Male          21          16         10   \n",
       "3      3     k403     Ramicane  Male          21          16         15   \n",
       "4      4     k403     Ramicane  Male          21          16         20   \n",
       "\n",
       "   Tumor Volume (mm3)  Metastatic Sites  \n",
       "0           45.000000                 0  \n",
       "1           38.825898                 0  \n",
       "2           35.014271                 1  \n",
       "3           34.223992                 1  \n",
       "4           32.997729                 1  "
      ]
     },
     "execution_count": 3,
     "metadata": {},
     "output_type": "execute_result"
    }
   ],
   "source": [
    "#based on the dataframe summary, noticed that the number of subjects * number of trials * number of data points did not make sense. TO look for spurious data:\n",
    "study_data['Mouse ID'].value_counts()\n",
    "#one of the subjects, g989 has 13 entries but maximum is only 10.  \n",
    "\n",
    "study_data = study_data[study_data['Mouse ID'] != 'g989'] #remove all entries corresponding to g989\n",
    "study_data = study_data.reset_index()\n",
    "study_data['Mouse ID'].value_counts()\n",
    "study_data.head()"
   ]
  },
  {
   "cell_type": "markdown",
   "metadata": {},
   "source": [
    "## Summary statistics"
   ]
  },
  {
   "cell_type": "code",
   "execution_count": 4,
   "metadata": {},
   "outputs": [],
   "source": [
    "# # Generate a summary statistics table of mean, median, variance, standard deviation, and SEM of the tumor volume for each regimen\n",
    "# tumor_response_mean_df = pd.DataFrame(study_data.groupby(['Drug Regimen', 'Timepoint'])['Tumor Volume (mm3)'].mean())\n",
    "# tumor_response_mean_df = tumor_response_mean_df.reset_index()\n",
    "# tumor_response_mean_df.rename(columns={\"Tumor Volume (mm3)\" : \"Mean Tumor Volume (mm3)\"},inplace=True)\n",
    "# tumor_response_mean_df.head(10)\n",
    "# tumor_response_median_df = pd.DataFrame(study_data.groupby(['Drug Regimen', 'Timepoint'])['Tumor Volume (mm3)'].median())\n",
    "# tumor_response_median_df = tumor_response_median_df.reset_index()\n",
    "# tumor_response_median_df.rename(columns={\"Tumor Volume (mm3)\" : \"Median Tumor Volume (mm3)\"},inplace=True)\n",
    "# tumor_response_median_df.head(10)\n",
    "# tumor_response_std_df = pd.DataFrame(study_data.groupby(['Drug Regimen', 'Timepoint'])['Tumor Volume (mm3)'].std())\n",
    "# tumor_response_std_df = tumor_response_std_df.reset_index()\n",
    "# tumor_response_std_df.rename(columns={\"Tumor Volume (mm3)\" : \"Tumor Volume-STDEV\"},inplace=True)\n",
    "# tumor_response_std_df.head(10)\n",
    "# tumor_response_var_df = pd.DataFrame(study_data.groupby(['Drug Regimen', 'Timepoint'])['Tumor Volume (mm3)'].var())\n",
    "# tumor_response_var_df = tumor_response_var_df.reset_index()\n",
    "# tumor_response_var_df.rename(columns={\"Tumor Volume (mm3)\" : \"Tumor Volume-VAR\"},inplace=True)\n",
    "# tumor_response_var_df.head(10)\n",
    "# tumor_response_sem_df = pd.DataFrame(study_data.groupby(['Drug Regimen', 'Timepoint'])['Tumor Volume (mm3)'].sem())\n",
    "# tumor_response_sem_df = tumor_response_sem_df.reset_index()\n",
    "# tumor_response_sem_df.rename(columns={\"Tumor Volume (mm3)\" : \"Tumor Volume-SEM\"},inplace=True)\n",
    "# tumor_response_sem_df.head(10)\n",
    "\n",
    "# # Combine the data into a single dataset\n",
    "# tumor_response_summary_df = pd.merge(tumor_response_mean_df, tumor_response_median_df, on=['Drug Regimen','Timepoint'])\n",
    "# tumor_response_summary_df = pd.merge(tumor_response_summary_df, tumor_response_std_df, on=['Drug Regimen','Timepoint'])\n",
    "# tumor_response_summary_df = pd.merge(tumor_response_summary_df, tumor_response_var_df, on=['Drug Regimen','Timepoint'])\n",
    "# tumor_response_summary_df = pd.merge(tumor_response_summary_df, tumor_response_sem_df, on=['Drug Regimen','Timepoint'])\n",
    "# tumor_response_summary_df.head(20)"
   ]
  },
  {
   "cell_type": "code",
   "execution_count": 5,
   "metadata": {},
   "outputs": [
    {
     "data": {
      "text/html": [
       "<div>\n",
       "<style scoped>\n",
       "    .dataframe tbody tr th:only-of-type {\n",
       "        vertical-align: middle;\n",
       "    }\n",
       "\n",
       "    .dataframe tbody tr th {\n",
       "        vertical-align: top;\n",
       "    }\n",
       "\n",
       "    .dataframe thead th {\n",
       "        text-align: right;\n",
       "    }\n",
       "</style>\n",
       "<table border=\"1\" class=\"dataframe\">\n",
       "  <thead>\n",
       "    <tr style=\"text-align: right;\">\n",
       "      <th></th>\n",
       "      <th>Trials</th>\n",
       "      <th>Mean</th>\n",
       "      <th>Median</th>\n",
       "      <th>Standard Deviation</th>\n",
       "      <th>Variance</th>\n",
       "      <th>SEM</th>\n",
       "    </tr>\n",
       "    <tr>\n",
       "      <th>Drug Regimen</th>\n",
       "      <th></th>\n",
       "      <th></th>\n",
       "      <th></th>\n",
       "      <th></th>\n",
       "      <th></th>\n",
       "      <th></th>\n",
       "    </tr>\n",
       "  </thead>\n",
       "  <tbody>\n",
       "    <tr>\n",
       "      <th>Capomulin</th>\n",
       "      <td>230</td>\n",
       "      <td>40.675741</td>\n",
       "      <td>41.557809</td>\n",
       "      <td>4.994774</td>\n",
       "      <td>24.947764</td>\n",
       "      <td>0.329346</td>\n",
       "    </tr>\n",
       "    <tr>\n",
       "      <th>Ceftamin</th>\n",
       "      <td>178</td>\n",
       "      <td>52.591172</td>\n",
       "      <td>51.776157</td>\n",
       "      <td>6.268188</td>\n",
       "      <td>39.290177</td>\n",
       "      <td>0.469821</td>\n",
       "    </tr>\n",
       "    <tr>\n",
       "      <th>Infubinol</th>\n",
       "      <td>178</td>\n",
       "      <td>52.884795</td>\n",
       "      <td>51.820584</td>\n",
       "      <td>6.567243</td>\n",
       "      <td>43.128684</td>\n",
       "      <td>0.492236</td>\n",
       "    </tr>\n",
       "    <tr>\n",
       "      <th>Ketapril</th>\n",
       "      <td>188</td>\n",
       "      <td>55.235638</td>\n",
       "      <td>53.698743</td>\n",
       "      <td>8.279709</td>\n",
       "      <td>68.553577</td>\n",
       "      <td>0.603860</td>\n",
       "    </tr>\n",
       "    <tr>\n",
       "      <th>Naftisol</th>\n",
       "      <td>186</td>\n",
       "      <td>54.331565</td>\n",
       "      <td>52.509285</td>\n",
       "      <td>8.134708</td>\n",
       "      <td>66.173479</td>\n",
       "      <td>0.596466</td>\n",
       "    </tr>\n",
       "  </tbody>\n",
       "</table>\n",
       "</div>"
      ],
      "text/plain": [
       "              Trials       Mean     Median  Standard Deviation   Variance  \\\n",
       "Drug Regimen                                                                \n",
       "Capomulin        230  40.675741  41.557809            4.994774  24.947764   \n",
       "Ceftamin         178  52.591172  51.776157            6.268188  39.290177   \n",
       "Infubinol        178  52.884795  51.820584            6.567243  43.128684   \n",
       "Ketapril         188  55.235638  53.698743            8.279709  68.553577   \n",
       "Naftisol         186  54.331565  52.509285            8.134708  66.173479   \n",
       "\n",
       "                   SEM  \n",
       "Drug Regimen            \n",
       "Capomulin     0.329346  \n",
       "Ceftamin      0.469821  \n",
       "Infubinol     0.492236  \n",
       "Ketapril      0.603860  \n",
       "Naftisol      0.596466  "
      ]
     },
     "execution_count": 5,
     "metadata": {},
     "output_type": "execute_result"
    }
   ],
   "source": [
    "# Generate a summary statistics table of mean, median, variance, standard deviation, and SEM of the tumor volume for each regimen\n",
    "\n",
    "#Create inital summary table with Drug Regimes and counts\n",
    "summarystats = pd.DataFrame(study_data.groupby(\"Drug Regimen\").count())\n",
    "\n",
    "#Use groupby to create summary stats by drug regime, add results into columns in summarystats\n",
    "\n",
    "summarystats[\"Mean\"] = pd.DataFrame(study_data.groupby(\"Drug Regimen\")[\"Tumor Volume (mm3)\"].mean())\n",
    "summarystats[\"Median\"] = pd.DataFrame(study_data.groupby(\"Drug Regimen\")[\"Tumor Volume (mm3)\"].median())\n",
    "summarystats[\"Standard Deviation\"] = pd.DataFrame(study_data.groupby(\"Drug Regimen\")[\"Tumor Volume (mm3)\"].std())\n",
    "summarystats[\"Variance\"] = pd.DataFrame(study_data.groupby(\"Drug Regimen\")[\"Tumor Volume (mm3)\"].var())\n",
    "summarystats[\"SEM\"] = pd.DataFrame(study_data.groupby(\"Drug Regimen\")[\"Tumor Volume (mm3)\"].sem())\n",
    "\n",
    "#Clean up columns, just keeping a count column for some of the graphs below\n",
    "summarystats = summarystats[[\"Mouse ID\", \"Mean\", \"Median\", \"Standard Deviation\", \"Variance\", \"SEM\"]]\n",
    "\n",
    "#Rename count column\n",
    "summarystats = summarystats.rename(columns = {\"Mouse ID\" : \"Trials\"})\n",
    "\n",
    "summarystats.head()"
   ]
  },
  {
   "cell_type": "markdown",
   "metadata": {},
   "source": [
    "## Bar plots"
   ]
  },
  {
   "cell_type": "code",
   "execution_count": 6,
   "metadata": {
    "scrolled": true
   },
   "outputs": [
    {
     "data": {
      "image/png": "[encoded data removed]",
      "text/plain": [
       "<Figure size 432x288 with 1 Axes>"
      ]
     },
     "metadata": {
      "needs_background": "light"
     },
     "output_type": "display_data"
    },
    {
     "data": {
      "text/plain": [
       "<Figure size 432x288 with 0 Axes>"
      ]
     },
     "metadata": {},
     "output_type": "display_data"
    }
   ],
   "source": [
    "# Generate a bar plot showing number of data points for each treatment regimen using pandas\n",
    "\n",
    "# Filter the DataFrame down only to those columns to chart\n",
    "datapoints = summarystats[[\"Trials\"]]\n",
    "\n",
    "# Use DataFrame.plot() in order to create a bar chart of the data\n",
    "datapoints.plot(kind=\"bar\", color = \"b\", legend=False)\n",
    "\n",
    "# Set a title for the chart\n",
    "plt.title(\"Trials per Drug Regime\")\n",
    "plt.ylabel(\"Number of Data Points\")\n",
    "plt.show()\n",
    "# plt.tight_layout()\n",
    "plt.savefig('Data points by Drug')"
   ]
  },
  {
   "cell_type": "code",
   "execution_count": 7,
   "metadata": {},
   "outputs": [
    {
     "data": {
      "image/png": "[encoded data removed]",
      "text/plain": [
       "<Figure size 576x360 with 1 Axes>"
      ]
     },
     "metadata": {
      "needs_background": "light"
     },
     "output_type": "display_data"
    }
   ],
   "source": [
    "# Generate a bar plot showing number of data points for each treatment regimen using pandas\n",
    "pandas_plot1 = datapoints.plot(kind=\"bar\", figsize=(8,5))\n"
   ]
  },
  {
   "cell_type": "markdown",
   "metadata": {},
   "source": [
    "## Pie plots"
   ]
  },
  {
   "cell_type": "code",
   "execution_count": 8,
   "metadata": {},
   "outputs": [
    {
     "data": {
      "image/png": "[encoded data removed]",
      "text/plain": [
       "<Figure size 432x288 with 1 Axes>"
      ]
     },
     "metadata": {},
     "output_type": "display_data"
    }
   ],
   "source": [
    "# Generate a pie plot showing the distribution of female versus male mice using pandas\n",
    "pie_panda = study_data[\"Sex\"].value_counts().plot.pie()\n"
   ]
  },
  {
   "cell_type": "code",
   "execution_count": 9,
   "metadata": {},
   "outputs": [
    {
     "data": {
      "image/png": "[encoded data removed]",
      "text/plain": [
       "<Figure size 432x288 with 1 Axes>"
      ]
     },
     "metadata": {},
     "output_type": "display_data"
    },
    {
     "data": {
      "text/plain": [
       "<Figure size 432x288 with 0 Axes>"
      ]
     },
     "metadata": {},
     "output_type": "display_data"
    }
   ],
   "source": [
    "# Generate a pie plot showing the distribution of female versus male mice using pyplot\n",
    "plt.title(\"Distribution\")\n",
    "plt.pie(study_data[\"Sex\"].value_counts(), autopct=\"%1.1f%%\", shadow=True, startangle=90, labels=[\"Male\",\"Female\"])\n",
    "plt.axis(\"equal\")\n",
    "plt.show()\n",
    "plt.savefig('Demographics-Pie')"
   ]
  },
  {
   "cell_type": "markdown",
   "metadata": {},
   "source": [
    "## Quartiles, outliers and boxplots"
   ]
  },
  {
   "cell_type": "code",
   "execution_count": 10,
   "metadata": {},
   "outputs": [
    {
     "name": "stdout",
     "output_type": "stream",
     "text": [
      "Capomulin potential outliers could have final tumor volumnes below 20.70456164999999 or above 51.83201549\n",
      "Ramicane potential outliers could have final tumor volumnes below 17.912664470000003 or above 54.30681135\n",
      "Infubinol potential outliers could have final tumor volumnes below 36.83290494999999 or above 82.74144559000001\n",
      "Ceftamin potential outliers could have final tumor volumnes below 25.355449580000002 or above 87.66645829999999\n"
     ]
    }
   ],
   "source": [
    "# Calculate the final tumor volume of each mouse across four of the most promising treatment regimens. Calculate the IQR and quantitatively determine if there are any potential outliers. \n",
    "# Grab just data for the 4 smallest mean tumor volume regimens\n",
    "# Grab data for Capomulin, Ramicane, Infubinol, Ceftamin\n",
    "\n",
    "# Create a sub-dataframe for each drug \n",
    "\n",
    "\n",
    "cap_df = study_data.loc[study_data[\"Drug Regimen\"] == \"Capomulin\",:]\n",
    "ram_df = study_data.loc[study_data[\"Drug Regimen\"] == \"Ramicane\", :]\n",
    "inf_df = study_data.loc[study_data[\"Drug Regimen\"] == \"Infubinol\", :]\n",
    "cef_df = study_data.loc[study_data[\"Drug Regimen\"] == \"Ceftamin\", :]\n",
    "\n",
    "##Capomulin\n",
    "index_final = cap_df.groupby('Mouse ID').max()['Timepoint']\n",
    "cap_df_merged = pd.DataFrame(index_final)\n",
    "cap_df_merged = pd.merge(cap_df, cap_df_merged, on=(\"Mouse ID\",\"Timepoint\"),how=\"right\")\n",
    "cap_df_merged.head(5)\n",
    "cap_tum_vol = cap_df_merged[\"Tumor Volume (mm3)\"]\n",
    "\n",
    "quartiles = cap_tum_vol.quantile([.25,.5,.75])\n",
    "lowerq = quartiles[0.25]\n",
    "upperq = quartiles[0.75]\n",
    "iqr = upperq-lowerq\n",
    "\n",
    "#print(f\"The lower quartile of tumor volume is: {lowerq}\")\n",
    "#print(f\"The upper quartile of tumor volume is: {upperq}\")\n",
    "#print(f\"The interquartile range of tumor volume is: {iqr}\")\n",
    "#print(f\"The the median of tumor volume is: {quartiles[0.5]} \")\n",
    "\n",
    "lower_bound = lowerq - (1.5*iqr)\n",
    "upper_bound = upperq + (1.5*iqr)\n",
    "print(f\"Capomulin potential outliers could have final tumor volumnes below {lower_bound} or above {upper_bound}\")\n",
    "\n",
    "##Ramicane\n",
    "index_final = ram_df.groupby('Mouse ID').max()['Timepoint']\n",
    "ram_df_merged = pd.DataFrame(index_final)\n",
    "ram_df_merged = pd.merge(ram_df, ram_df_merged, on=(\"Mouse ID\",\"Timepoint\"),how=\"right\")\n",
    "ram_df_merged.head(5)\n",
    "ram_tum_vol = ram_df_merged[\"Tumor Volume (mm3)\"]\n",
    "\n",
    "quartiles = ram_tum_vol.quantile([.25,.5,.75])\n",
    "lowerq = quartiles[0.25]\n",
    "upperq = quartiles[0.75]\n",
    "iqr = upperq-lowerq\n",
    "\n",
    "#print(f\"The lower quartile of tumor volume is: {lowerq}\")\n",
    "#print(f\"The upper quartile of tumor volume is: {upperq}\")\n",
    "#print(f\"The interquartile range of tumor volume is: {iqr}\")\n",
    "#print(f\"The the median of tumor volume is: {quartiles[0.5]} \")\n",
    "\n",
    "lower_bound = lowerq - (1.5*iqr)\n",
    "upper_bound = upperq + (1.5*iqr)\n",
    "print(f\"Ramicane potential outliers could have final tumor volumnes below {lower_bound} or above {upper_bound}\")\n",
    "\n",
    "##Infubinol\n",
    "index_final = inf_df.groupby('Mouse ID').max()['Timepoint']\n",
    "inf_df_merged = pd.DataFrame(index_final)\n",
    "inf_df_merged = pd.merge(inf_df, inf_df_merged, on=(\"Mouse ID\",\"Timepoint\"),how=\"right\")\n",
    "inf_df_merged.head(5)\n",
    "inf_tum_vol = inf_df_merged[\"Tumor Volume (mm3)\"]\n",
    "\n",
    "quartiles = inf_tum_vol.quantile([.25,.5,.75])\n",
    "lowerq = quartiles[0.25]\n",
    "upperq = quartiles[0.75]\n",
    "iqr = upperq-lowerq\n",
    "\n",
    "#print(f\"The lower quartile of tumor volume is: {lowerq}\")\n",
    "#print(f\"The upper quartile of tumor volume is: {upperq}\")\n",
    "#print(f\"The interquartile range of tumor volume is: {iqr}\")\n",
    "#print(f\"The the median of tumor volume is: {quartiles[0.5]} \")\n",
    "\n",
    "lower_bound = lowerq - (1.5*iqr)\n",
    "upper_bound = upperq + (1.5*iqr)\n",
    "print(f\"Infubinol potential outliers could have final tumor volumnes below {lower_bound} or above {upper_bound}\")\n",
    "\n",
    "##Ceftamin\n",
    "index_final = cef_df.groupby('Mouse ID').max()['Timepoint']\n",
    "cef_df_merged = pd.DataFrame(index_final)\n",
    "cef_df_merged = pd.merge(cef_df, cef_df_merged, on=(\"Mouse ID\",\"Timepoint\"))\n",
    "cef_df_merged.head(5)\n",
    "cef_tum_vol = cef_df_merged[\"Tumor Volume (mm3)\"]\n",
    "\n",
    "quartiles = cef_tum_vol.quantile([.25,.5,.75])\n",
    "lowerq = quartiles[0.25]\n",
    "upperq = quartiles[0.75]\n",
    "iqr = upperq-lowerq\n",
    "\n",
    "#print(f\"The lower quartile of tumor volume is: {lowerq}\")\n",
    "#print(f\"The upper quartile of tumor volume is: {upperq}\")\n",
    "#print(f\"The interquartile range of tumor volume is: {iqr}\")\n",
    "#print(f\"The the median of tumor volume is: {quartiles[0.5]} \")\n",
    "\n",
    "lower_bound = lowerq - (1.5*iqr)\n",
    "upper_bound = upperq + (1.5*iqr)\n",
    "print(f\"Ceftamin potential outliers could have final tumor volumnes below {lower_bound} or above {upper_bound}\")\n",
    "\n"
   ]
  },
  {
   "cell_type": "code",
   "execution_count": 11,
   "metadata": {},
   "outputs": [
    {
     "data": {
      "image/png": "[encoded data removed]",
      "text/plain": [
       "<Figure size 432x288 with 1 Axes>"
      ]
     },
     "metadata": {
      "needs_background": "light"
     },
     "output_type": "display_data"
    }
   ],
   "source": [
    "# Generate a box plot of the final tumor volume of each mouse across four regimens of interest\n",
    "data_to_plot = [cap_tum_vol, ram_tum_vol, inf_tum_vol, cef_tum_vol]\n",
    "\n",
    "fig1, ax1 = plt.subplots()\n",
    "ax1.set_title('Tumors')\n",
    "ax1.set_ylabel('Final Tumor Volume (mm3)')\n",
    "ax1.set_xlabel('Drug Regimen')\n",
    "\n",
    "ax1.boxplot(data_to_plot, labels=[\"Capomulin\",\"Ramicane\",\"Infubinol\",\"Ceftamin\",])\n",
    "\n",
    "plt.savefig('Final Tumor Volume by Drugs')\n",
    "plt.show()"
   ]
  },
  {
   "cell_type": "markdown",
   "metadata": {},
   "source": [
    "## Line and scatter plots"
   ]
  },
  {
   "cell_type": "code",
   "execution_count": 12,
   "metadata": {},
   "outputs": [
    {
     "data": {
      "image/png": "[encoded data removed]",
      "text/plain": [
       "<Figure size 432x288 with 1 Axes>"
      ]
     },
     "metadata": {
      "needs_background": "light"
     },
     "output_type": "display_data"
    }
   ],
   "source": [
    "# Generate a line plot of time point versus tumor volume for a mouse treated with Capomulin\n",
    "cap_df.head(20) #look at head to identify any mouse ID\n",
    "plot_df = cap_df.loc[cap_df[\"Mouse ID\"] == \"s185\",:]\n",
    "plot_df\n",
    "plt.title('Tumor Volume with Capomulin over time')\n",
    "plt.plot(plot_df[\"Timepoint\"], plot_df[\"Tumor Volume (mm3)\"],linewidth=2, markersize=12)\n",
    "plt.xlabel('Time (Days)')\n",
    "plt.ylabel('Tumor Volume (mm3)')\n",
    "plt.savefig('Tumor Volume Progression-s185')\n",
    "plt.show()"
   ]
  },
  {
   "cell_type": "code",
   "execution_count": 13,
   "metadata": {},
   "outputs": [
    {
     "data": {
      "image/png": "[encoded data removed]",
      "text/plain": [
       "<Figure size 432x288 with 1 Axes>"
      ]
     },
     "metadata": {
      "needs_background": "light"
     },
     "output_type": "display_data"
    }
   ],
   "source": [
    "# Generate a scatter plot of mouse weight versus average tumor volume for the Capomulin regimen\n",
    "cap_avg_df = cap_df.groupby(['Mouse ID']).mean()# Compute an averaged df; all fields may not make sense\n",
    "plt.scatter(cap_avg_df['Weight (g)'],cap_avg_df['Tumor Volume (mm3)'])\n",
    "plt.xlabel('Weight (g)')\n",
    "plt.ylabel('Average Tumor Volume (mm3)')\n",
    "\n",
    "plt.savefig('Avg Tumor Vol vs Weight-Capomulin')\n",
    "plt.show()"
   ]
  },
  {
   "cell_type": "code",
   "execution_count": 14,
   "metadata": {},
   "outputs": [
    {
     "name": "stdout",
     "output_type": "stream",
     "text": [
      "The correlation between mouse weight and average tumor volume is 0.84\n"
     ]
    }
   ],
   "source": [
    "# Calculate the correlation coefficient and linear regression model for mouse weight and average tumor volume for the Capomulin regimen\n",
    "corr=round(st.pearsonr(cap_avg_df['Weight (g)'],cap_avg_df['Tumor Volume (mm3)'])[0],2)\n",
    "print(f\"The correlation between mouse weight and average tumor volume is {corr}\")"
   ]
  },
  {
   "cell_type": "code",
   "execution_count": 15,
   "metadata": {},
   "outputs": [
    {
     "name": "stdout",
     "output_type": "stream",
     "text": [
      "The r-squared is: 0.8419363424694718\n"
     ]
    },
    {
     "data": {
      "image/png": "[encoded data removed]",
      "text/plain": [
       "<Figure size 432x288 with 1 Axes>"
      ]
     },
     "metadata": {
      "needs_background": "light"
     },
     "output_type": "display_data"
    }
   ],
   "source": [
    "# Add the linear regression equation and line to plot\n",
    "x_values = cap_avg_df['Weight (g)']\n",
    "y_values = cap_avg_df['Tumor Volume (mm3)']\n",
    "(slope, intercept, rvalue, pvalue, stderr) = linregress(x_values, y_values)\n",
    "regress_values = x_values * slope + intercept\n",
    "line_eq = \"y = \" + str(round(slope,2)) + \"x + \" + str(round(intercept,2))\n",
    "plt.scatter(x_values,y_values)\n",
    "plt.plot(x_values,regress_values,\"r-\")\n",
    "plt.annotate(line_eq,(6,10),fontsize=15,color=\"red\")\n",
    "plt.xlabel('Weight (g)')\n",
    "plt.ylabel('Average Tumor Volume (mm3)')\n",
    "# Print out the r-squared value along with the plot.\n",
    "print(f\"The r-squared is: {rvalue}\")\n",
    "plt.savefig('Avg Tumor Vol vs Weight-Capomulin w regression')\n",
    "plt.show()"
   ]
  },
  {
   "cell_type": "code",
   "execution_count": null,
   "metadata": {},
   "outputs": [],
   "source": []
  }
 ],
 "metadata": {
  "anaconda-cloud": {},
  "kernelspec": {
   "display_name": "Python 3.7.6 64-bit ('PythonData': conda)",
   "language": "python",
   "name": "python37664bitpythondataconda21399d1df6a047bba5356eeb6b3c0b48"
  },
  "language_info": {
   "codemirror_mode": {
    "name": "ipython",
    "version": 3
   },
   "file_extension": ".py",
   "mimetype": "text/x-python",
   "name": "python",
   "nbconvert_exporter": "python",
   "pygments_lexer": "ipython3",
   "version": "3.7.6"
  }
 },
 "nbformat": 4,
 "nbformat_minor": 2
}
